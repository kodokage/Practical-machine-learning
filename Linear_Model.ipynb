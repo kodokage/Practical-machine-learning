{
  "nbformat": 4,
  "nbformat_minor": 0,
  "metadata": {
    "kernelspec": {
      "display_name": "Python 3",
      "language": "python",
      "name": "python3"
    },
    "language_info": {
      "codemirror_mode": {
        "name": "ipython",
        "version": 3
      },
      "file_extension": ".py",
      "mimetype": "text/x-python",
      "name": "python",
      "nbconvert_exporter": "python",
      "pygments_lexer": "ipython3",
      "version": "3.7.1"
    },
    "colab": {
      "name": "Linear Model.ipynb",
      "provenance": [],
      "collapsed_sections": [],
      "include_colab_link": true
    }
  },
  "cells": [
    {
      "cell_type": "markdown",
      "metadata": {
        "id": "view-in-github",
        "colab_type": "text"
      },
      "source": [
        "<a href=\"https://colab.research.google.com/github/kodokage/Practical-machine-learning/blob/master/Linear_Model.ipynb\" target=\"_parent\"><img src=\"https://colab.research.google.com/assets/colab-badge.svg\" alt=\"Open In Colab\"/></a>"
      ]
    },
    {
      "cell_type": "code",
      "metadata": {
        "id": "v2CVGViZoVJT",
        "colab_type": "code",
        "colab": {}
      },
      "source": [
        "import numpy as np\n",
        "class LinearModel:   #creating classes\n",
        "    def _init_(self, *args): #custom functions\n",
        "        self.x = None         #self: means this same function\n",
        "        self.y = None\n",
        "        \n",
        "    def train(self, x,y):\n",
        "        self.x = np.array(x)\n",
        "        self.y = np.array(y)\n",
        "        self.n = len(self.x)\n",
        "        self.x_sum = (self.x).sum()\n",
        "        self.y_sum = (self.y).sum()\n",
        "        self.sum_xy = (self.x*self.y).sum()\n",
        "        self.x_squared_sum = (self.x**2).sum()\n",
        "        self.nume = self.n*self.sum_xy-(self.x_sum*self.y_sum)     #numerator\n",
        "        self.denum = self.n*self.x_squared_sum-self.x_sum**2     #denominator\n",
        "        self.coef_ = self.nume/self.denum\n",
        "        self.intercept_ = (self.y).mean()-self.coef_*(self.x).mean()\n",
        "        #return self.intercept_,self.coef_\n",
        "    \n",
        "    def predict(self, x):\n",
        "        self.intercept_+(self.coef_)*np.array(x)\n",
        "        #return self.intercept_+(self.coef_)*np.array(x)\n",
        "    \n",
        "    def loss(self, y_true, y_predict):\n",
        "        self.loss_ = np.square(np.subtract(y_true,y_predict)).mean()\n",
        "        return self.loss_\n",
        "        "
      ],
      "execution_count": 0,
      "outputs": []
    },
    {
      "cell_type": "code",
      "metadata": {
        "id": "dt7TVrBWoVJj",
        "colab_type": "code",
        "colab": {}
      },
      "source": [
        "model1 = LinearModel()"
      ],
      "execution_count": 0,
      "outputs": []
    },
    {
      "cell_type": "code",
      "metadata": {
        "id": "eMHpmQbjoVJv",
        "colab_type": "code",
        "colab": {}
      },
      "source": [
        "data = np.array([[4.2, 8.4], [2.7, 6.2], [8.9, 12.5], [8.2, 10.5], [10.2, 13]])"
      ],
      "execution_count": 0,
      "outputs": []
    },
    {
      "cell_type": "code",
      "metadata": {
        "id": "2NC4sV76oVJ3",
        "colab_type": "code",
        "colab": {},
        "outputId": "acf0e484-de8c-4013-e465-8cfec7dc1ae8"
      },
      "source": [
        "data"
      ],
      "execution_count": 0,
      "outputs": [
        {
          "output_type": "execute_result",
          "data": {
            "text/plain": [
              "array([[ 4.2,  8.4],\n",
              "       [ 2.7,  6.2],\n",
              "       [ 8.9, 12.5],\n",
              "       [ 8.2, 10.5],\n",
              "       [10.2, 13. ]])"
            ]
          },
          "metadata": {
            "tags": []
          },
          "execution_count": 75
        }
      ]
    },
    {
      "cell_type": "code",
      "metadata": {
        "id": "8f566qGyoVKE",
        "colab_type": "code",
        "colab": {}
      },
      "source": [
        "x = data[:, 0]\n",
        "y = data[:,1]"
      ],
      "execution_count": 0,
      "outputs": []
    },
    {
      "cell_type": "code",
      "metadata": {
        "id": "A1J9ddn1oVKQ",
        "colab_type": "code",
        "colab": {}
      },
      "source": [
        "model1.train(x,y)"
      ],
      "execution_count": 0,
      "outputs": []
    },
    {
      "cell_type": "code",
      "metadata": {
        "id": "mx2Hso9xoVKh",
        "colab_type": "code",
        "colab": {}
      },
      "source": [
        "model1.predict([12.5])"
      ],
      "execution_count": 0,
      "outputs": []
    },
    {
      "cell_type": "code",
      "metadata": {
        "id": "YAECi0ZioVKn",
        "colab_type": "code",
        "colab": {}
      },
      "source": [
        "model1.predict([12.5, 10, 29])"
      ],
      "execution_count": 0,
      "outputs": []
    },
    {
      "cell_type": "markdown",
      "metadata": {
        "id": "20ydHDSOoVKy",
        "colab_type": "text"
      },
      "source": [
        "model1.loss([[4.2, 8.4], [2.7, 6.2], [8.9, 12.5], [8.2, 10.5], [10.2, 13]])"
      ]
    },
    {
      "cell_type": "code",
      "metadata": {
        "id": "V-pof1j4oVK0",
        "colab_type": "code",
        "colab": {},
        "outputId": "20a7de5a-beb5-4aa9-9a03-2cef9583bb98"
      },
      "source": [
        "model1.loss([12.5, 10, 29, 30], [13, 16, 20, 70] )"
      ],
      "execution_count": 0,
      "outputs": [
        {
          "output_type": "execute_result",
          "data": {
            "text/plain": [
              "429.3125"
            ]
          },
          "metadata": {
            "tags": []
          },
          "execution_count": 80
        }
      ]
    },
    {
      "cell_type": "code",
      "metadata": {
        "id": "QEKZWhuLoVLD",
        "colab_type": "code",
        "colab": {}
      },
      "source": [
        ""
      ],
      "execution_count": 0,
      "outputs": []
    },
    {
      "cell_type": "code",
      "metadata": {
        "id": "IpBscVvGoVLL",
        "colab_type": "code",
        "colab": {}
      },
      "source": [
        ""
      ],
      "execution_count": 0,
      "outputs": []
    }
  ]
}