{
 "cells": [
  {
   "cell_type": "code",
   "execution_count": 72,
   "metadata": {},
   "outputs": [],
   "source": [
    "import numpy as np\n",
    "class LinearModel:   #creating classes\n",
    "    def _init_(self, *args): #custom functions\n",
    "        self.x = None         #self: means this same function\n",
    "        self.y = None\n",
    "        \n",
    "    def train(self, x,y):\n",
    "        self.x = np.array(x)\n",
    "        self.y = np.array(y)\n",
    "        self.n = len(self.x)\n",
    "        self.x_sum = (self.x).sum()\n",
    "        self.y_sum = (self.y).sum()\n",
    "        self.sum_xy = (self.x*self.y).sum()\n",
    "        self.x_squared_sum = (self.x**2).sum()\n",
    "        self.nume = self.n*self.sum_xy-(self.x_sum*self.y_sum)     #numerator\n",
    "        self.denum = self.n*self.x_squared_sum-self.x_sum**2     #denominator\n",
    "        self.coef_ = self.nume/self.denum\n",
    "        self.intercept_ = (self.y).mean()-self.coef_*(self.x).mean()\n",
    "        #return self.intercept_,self.coef_\n",
    "    \n",
    "    def predict(self, x):\n",
    "        self.intercept_+(self.coef_)*np.array(x)\n",
    "        #return self.intercept_+(self.coef_)*np.array(x)\n",
    "    \n",
    "    def loss(self, y_true, y_predict):\n",
    "        self.loss_ = np.square(np.subtract(y_true,y_predict)).mean()\n",
    "        return self.loss_\n",
    "        "
   ]
  },
  {
   "cell_type": "code",
   "execution_count": 73,
   "metadata": {},
   "outputs": [],
   "source": [
    "model1 = LinearModel()"
   ]
  },
  {
   "cell_type": "code",
   "execution_count": 74,
   "metadata": {},
   "outputs": [],
   "source": [
    "data = np.array([[4.2, 8.4], [2.7, 6.2], [8.9, 12.5], [8.2, 10.5], [10.2, 13]])"
   ]
  },
  {
   "cell_type": "code",
   "execution_count": 75,
   "metadata": {},
   "outputs": [
    {
     "data": {
      "text/plain": [
       "array([[ 4.2,  8.4],\n",
       "       [ 2.7,  6.2],\n",
       "       [ 8.9, 12.5],\n",
       "       [ 8.2, 10.5],\n",
       "       [10.2, 13. ]])"
      ]
     },
     "execution_count": 75,
     "metadata": {},
     "output_type": "execute_result"
    }
   ],
   "source": [
    "data"
   ]
  },
  {
   "cell_type": "code",
   "execution_count": 76,
   "metadata": {},
   "outputs": [],
   "source": [
    "x = data[:, 0]\n",
    "y = data[:,1]"
   ]
  },
  {
   "cell_type": "code",
   "execution_count": 77,
   "metadata": {},
   "outputs": [],
   "source": [
    "model1.train(x,y)"
   ]
  },
  {
   "cell_type": "code",
   "execution_count": 78,
   "metadata": {},
   "outputs": [],
   "source": [
    "model1.predict([12.5])"
   ]
  },
  {
   "cell_type": "code",
   "execution_count": 79,
   "metadata": {},
   "outputs": [],
   "source": [
    "model1.predict([12.5, 10, 29])"
   ]
  },
  {
   "cell_type": "markdown",
   "metadata": {},
   "source": [
    "model1.loss([[4.2, 8.4], [2.7, 6.2], [8.9, 12.5], [8.2, 10.5], [10.2, 13]])"
   ]
  },
  {
   "cell_type": "code",
   "execution_count": 80,
   "metadata": {},
   "outputs": [
    {
     "data": {
      "text/plain": [
       "429.3125"
      ]
     },
     "execution_count": 80,
     "metadata": {},
     "output_type": "execute_result"
    }
   ],
   "source": [
    "model1.loss([12.5, 10, 29, 30], [13, 16, 20, 70] )"
   ]
  },
  {
   "cell_type": "code",
   "execution_count": null,
   "metadata": {},
   "outputs": [],
   "source": []
  },
  {
   "cell_type": "code",
   "execution_count": null,
   "metadata": {},
   "outputs": [],
   "source": []
  }
 ],
 "metadata": {
  "kernelspec": {
   "display_name": "Python 3",
   "language": "python",
   "name": "python3"
  },
  "language_info": {
   "codemirror_mode": {
    "name": "ipython",
    "version": 3
   },
   "file_extension": ".py",
   "mimetype": "text/x-python",
   "name": "python",
   "nbconvert_exporter": "python",
   "pygments_lexer": "ipython3",
   "version": "3.7.1"
  }
 },
 "nbformat": 4,
 "nbformat_minor": 2
}
